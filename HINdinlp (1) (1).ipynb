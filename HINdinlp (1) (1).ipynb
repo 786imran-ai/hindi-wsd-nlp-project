{
  "nbformat": 4,
  "nbformat_minor": 0,
  "metadata": {
    "colab": {
      "provenance": []
    },
    "kernelspec": {
      "name": "python3",
      "display_name": "Python 3"
    },
    "language_info": {
      "name": "python"
    }
  },
  "cells": [
    {
      "cell_type": "code",
      "execution_count": null,
      "metadata": {
        "id": "SFp7Za92zgiU"
      },
      "outputs": [],
      "source": [
        "para_hin='''जीवन एक संघर्ष की कहानी है जिसमें हर दिन नए अध्याय जुड़ते हैं। हर सुबह एक नया अवसर लेकर आती है, और हर रात हमें उस दिन की सीख देती है। जो व्यक्ति अपने समय का सही उपयोग करता है, वही जीवन में आगे बढ़ता है। समय एक ऐसा धन है जिसे खर्च तो किया जा सकता है, लेकिन संचित नहीं। इसलिए इसका सदुपयोग करना अत्यंत आवश्यक है। कठिनाइयाँ जीवन का हिस्सा हैं, परंतु वे हमें मजबूत बनाती हैं। चुनौतियाँ ही हमें सिखाती हैं कि सफलता का स्वाद कितना मीठा होता है। जब हम गिरते हैं और फिर उठते हैं, तो हमें अपने भीतर की असली ताकत का एहसास होता है।\n",
        "\n",
        "हर इंसान के अंदर कुछ खास करने की क्षमता होती है, परंतु अधिकतर लोग डर, असफलता और समाज के विचारों की वजह से अपने सपनों को पूरा नहीं कर पाते। आत्म-विश्वास और दृढ़ निश्चय के साथ कोई भी कार्य असंभव नहीं है। मेहनत, लगन और ईमानदारी से किया गया प्रयास कभी व्यर्थ नहीं जाता। सपनों को हकीकत में बदलने के लिए निरंतर प्रयास आवश्यक है। बड़े लक्ष्य हासिल करने के लिए पहले छोटे कदम उठाने पड़ते हैं।\n",
        "\n",
        "हमें अपने जीवन में कभी रुकना नहीं चाहिए, चाहे परिस्थिति कैसी भी हो। सीखते रहना और आगे बढ़ते रहना ही सफलता की असली कुंजी है। जीवन को सकारात्मक दृष्टिकोण से देखो, और हर दिन को एक नई उम्मीद के साथ जीओ।'''"
      ]
    },
    {
      "cell_type": "code",
      "source": [
        "from nltk.corpus import stopwords"
      ],
      "metadata": {
        "id": "FzLILr3d0Eq4"
      },
      "execution_count": null,
      "outputs": []
    },
    {
      "cell_type": "code",
      "source": [
        "import nltk\n",
        "nltk.download('stopwords')"
      ],
      "metadata": {
        "colab": {
          "base_uri": "https://localhost:8080/"
        },
        "id": "L5_w79OT0WM_",
        "outputId": "0f23ce6f-379a-499c-9c50-08e0f8495760"
      },
      "execution_count": null,
      "outputs": [
        {
          "output_type": "stream",
          "name": "stderr",
          "text": [
            "[nltk_data] Downloading package stopwords to /root/nltk_data...\n",
            "[nltk_data]   Unzipping corpora/stopwords.zip.\n"
          ]
        },
        {
          "output_type": "execute_result",
          "data": {
            "text/plain": [
              "True"
            ]
          },
          "metadata": {},
          "execution_count": 5
        }
      ]
    },
    {
      "cell_type": "code",
      "source": [
        "hindi_stopwords = [\n",
        "    'अंदर', 'अत', 'अदि', 'अपना', 'अपनि', 'अपने', 'अभी', 'अथवा', 'अगर', 'अति', 'अथ', 'अब', 'आदि', 'आप',\n",
        "    'इत्यादि', 'इन', 'इनका', 'इन्हीं', 'इन्हें', 'इस', 'इसका', 'इसकि', 'इसके', 'इसमें', 'इसी', 'इसे',\n",
        "    'उन्हें', 'उनका', 'उनकि', 'उनके', 'उनको', 'उधर', 'उन्हीं', 'उसी', 'उसे', 'एक', 'एवं', 'ऐसे', 'और',\n",
        "    'कई', 'कर', 'करता', 'करते', 'करना', 'करने', 'करें', 'कहते', 'कहा', 'का', 'काफी', 'कि', 'किंतु', 'की',\n",
        "    'कुछ', 'कुल', 'कृपया', 'के', 'को', 'कौन', 'कौनसा', 'गया', 'घर', 'जब', 'जहाँ', 'जैसे', 'जैसा', 'जिन',\n",
        "    'जिन्हें', 'जिन्हों', 'जिस', 'जिसे', 'जुका', 'तक', 'तब', 'तरह', 'तिन', 'तिन्हें', 'तिन्हों', 'तिस',\n",
        "    'तिसे', 'तो', 'था', 'थी', 'थे', 'दबारा', 'दिया', 'दूसरा', 'दो', 'द्वारा', 'न', 'नहीं', 'ना', 'निचे',\n",
        "    'नीचे', 'ने', 'पर', 'पहले', 'पूरा', 'फिर', 'बनी', 'बना', 'बने', 'बात', 'बाद', 'बाला', 'बिलकुल',\n",
        "    'भी', 'भीतर', 'मगर', 'मानो', 'मे', 'में', 'यदि', 'यह', 'यहाँ', 'यही', 'या', 'यानी', 'यूँ', 'यॆ', 'रखें',\n",
        "    'रहा', 'रहे', 'रखी', 'रखें', 'लिए', 'लिये', 'लेकिन', 'व', 'वग़ैरह', 'वर्ग', 'वह', 'वहाँ', 'वाले', 'वास्तव',\n",
        "    'वास्तव में', 'वे', 'वो', 'शायद', 'संग', 'सभी', 'सबसे', 'सामने', 'सही', 'साख्य', 'सी', 'साथ', 'साभार',\n",
        "    'से', 'सो', 'ही', 'हुआ', 'हुई', 'हुए', 'है', 'हैं', 'हो', 'होता', 'होती', 'होते', 'होना', 'होने',\n",
        "    'अबतक', 'अलग', 'अक्सर', 'अतिरिक्त', 'अपेक्षाकृत', 'अरे', 'असल में', 'असल', 'आदि', 'आपका', 'आपके', 'इसीलिए',\n",
        "    'इसलिए', 'इसलिये', 'उसीलिए', 'कुछ भी', 'कितना', 'किस', 'किसी', 'किसे', 'क्यों', 'क्योंकि', 'खासकर',\n",
        "    'गौरतलब', 'चाहे', 'जिनके', 'जिनसे', 'जितना', 'जैसा कि', 'जैसे कि', 'जहाँ तक', 'तदनुसार', 'तब तक',\n",
        "    'तबसे', 'तुम', 'तुम्हारा', 'तुम्हारी', 'तुम्हारे', 'थोड़ा', 'थोड़ी', 'थोड़े', 'देर', 'ध्यान से', 'नए', 'नयी',\n",
        "    'नया', 'पल', 'पहुँच', 'प्रति', 'बजाय', 'बिलकुल नहीं', 'बेहद', 'भले ही', 'मात्र', 'मत', 'मानिए', 'मुझे',\n",
        "    'मुझसे', 'मुझको', 'मेरा', 'मेरे', 'मेरी', 'रखना', 'लगभग', 'लगता', 'लगती', 'लगते', 'लगा', 'लगाया',\n",
        "    'लगाने', 'वाले', 'वाला', 'वाली', 'विषय में', 'सकता', 'सकती', 'सकते', 'सब', 'सभी', 'सिर्फ', 'सिर्फ़',\n",
        "    'सुनिए', 'उसके बाद', 'उसमें', 'उससे', 'उसको', 'उसे', 'उसका', 'उतना', 'एसा', 'ऐसा', 'ऐसी', 'ऐसे',\n",
        "    'इसमें से', 'करेगा', 'करोगे', 'करूँगा', 'करेंगी', 'करेंगें', 'करेंगे', 'किए', 'किया', 'कीजिए', 'कीजिये'\n",
        "]\n"
      ],
      "metadata": {
        "id": "D33TpIXy1X3p"
      },
      "execution_count": null,
      "outputs": []
    },
    {
      "cell_type": "code",
      "source": [
        "from nltk.tokenize import word_tokenize"
      ],
      "metadata": {
        "id": "XbnxN8cs1YBb"
      },
      "execution_count": null,
      "outputs": []
    },
    {
      "cell_type": "code",
      "source": [],
      "metadata": {
        "id": "pY0yJeKH1YJJ"
      },
      "execution_count": null,
      "outputs": []
    },
    {
      "cell_type": "code",
      "source": [
        "import nltk\n",
        "nltk.download('punkt_tab')"
      ],
      "metadata": {
        "colab": {
          "base_uri": "https://localhost:8080/"
        },
        "id": "036UZiji13LF",
        "outputId": "180d97e1-37d9-453a-ead5-2fbbde8819be"
      },
      "execution_count": null,
      "outputs": [
        {
          "output_type": "stream",
          "name": "stderr",
          "text": [
            "[nltk_data] Downloading package punkt_tab to /root/nltk_data...\n",
            "[nltk_data]   Unzipping tokenizers/punkt_tab.zip.\n"
          ]
        },
        {
          "output_type": "execute_result",
          "data": {
            "text/plain": [
              "True"
            ]
          },
          "metadata": {},
          "execution_count": 9
        }
      ]
    },
    {
      "cell_type": "code",
      "execution_count": null,
      "metadata": {
        "id": "xciptYXH1k-C"
      },
      "outputs": [],
      "source": [
        "para_hin='''जीवन एक संघर्ष की कहानी है जिसमें हर दिन नए अध्याय जुड़ते हैं। हर सुबह एक नया अवसर लेकर आती है, और हर रात हमें उस दिन की सीख देती है। जो व्यक्ति अपने समय का सही उपयोग करता है, वही जीवन में आगे बढ़ता है। समय एक ऐसा धन है जिसे खर्च तो किया जा सकता है, लेकिन संचित नहीं। इसलिए इसका सदुपयोग करना अत्यंत आवश्यक है। कठिनाइयाँ जीवन का हिस्सा हैं, परंतु वे हमें मजबूत बनाती हैं। चुनौतियाँ ही हमें सिखाती हैं कि सफलता का स्वाद कितना मीठा होता है। जब हम गिरते हैं और फिर उठते हैं, तो हमें अपने भीतर की असली ताकत का एहसास होता है।\n",
        "\n",
        "हर इंसान के अंदर कुछ खास करने की क्षमता होती है, परंतु अधिकतर लोग डर, असफलता और समाज के विचारों की वजह से अपने सपनों को पूरा नहीं कर पाते। आत्म-विश्वास और दृढ़ निश्चय के साथ कोई भी कार्य असंभव नहीं है। मेहनत, लगन और ईमानदारी से किया गया प्रयास कभी व्यर्थ नहीं जाता। सपनों को हकीकत में बदलने के लिए निरंतर प्रयास आवश्यक है। बड़े लक्ष्य हासिल करने के लिए पहले छोटे कदम उठाने पड़ते हैं।\n",
        "\n",
        "हमें अपने जीवन में कभी रुकना नहीं चाहिए, चाहे परिस्थिति कैसी भी हो। सीखते रहना और आगे बढ़ते रहना ही सफलता की असली कुंजी है। जीवन को सकारात्मक दृष्टिकोण से देखो, और हर दिन को एक नई उम्मीद के साथ जीओ।'''"
      ]
    },
    {
      "cell_type": "code",
      "source": [
        "sentence= word_tokenize(para_hin)"
      ],
      "metadata": {
        "id": "jFYe-n4a1YNp"
      },
      "execution_count": null,
      "outputs": []
    },
    {
      "cell_type": "code",
      "source": [
        "print(sentence)"
      ],
      "metadata": {
        "colab": {
          "base_uri": "https://localhost:8080/"
        },
        "id": "au_feO6-1WY6",
        "outputId": "4033781a-65e0-400c-de7c-882f61edec82"
      },
      "execution_count": null,
      "outputs": [
        {
          "output_type": "stream",
          "name": "stdout",
          "text": [
            "['जीवन', 'एक', 'संघर्ष', 'की', 'कहानी', 'है', 'जिसमें', 'हर', 'दिन', 'नए', 'अध्याय', 'जुड़ते', 'हैं।', 'हर', 'सुबह', 'एक', 'नया', 'अवसर', 'लेकर', 'आती', 'है', ',', 'और', 'हर', 'रात', 'हमें', 'उस', 'दिन', 'की', 'सीख', 'देती', 'है।', 'जो', 'व्यक्ति', 'अपने', 'समय', 'का', 'सही', 'उपयोग', 'करता', 'है', ',', 'वही', 'जीवन', 'में', 'आगे', 'बढ़ता', 'है।', 'समय', 'एक', 'ऐसा', 'धन', 'है', 'जिसे', 'खर्च', 'तो', 'किया', 'जा', 'सकता', 'है', ',', 'लेकिन', 'संचित', 'नहीं।', 'इसलिए', 'इसका', 'सदुपयोग', 'करना', 'अत्यंत', 'आवश्यक', 'है।', 'कठिनाइयाँ', 'जीवन', 'का', 'हिस्सा', 'हैं', ',', 'परंतु', 'वे', 'हमें', 'मजबूत', 'बनाती', 'हैं।', 'चुनौतियाँ', 'ही', 'हमें', 'सिखाती', 'हैं', 'कि', 'सफलता', 'का', 'स्वाद', 'कितना', 'मीठा', 'होता', 'है।', 'जब', 'हम', 'गिरते', 'हैं', 'और', 'फिर', 'उठते', 'हैं', ',', 'तो', 'हमें', 'अपने', 'भीतर', 'की', 'असली', 'ताकत', 'का', 'एहसास', 'होता', 'है।', 'हर', 'इंसान', 'के', 'अंदर', 'कुछ', 'खास', 'करने', 'की', 'क्षमता', 'होती', 'है', ',', 'परंतु', 'अधिकतर', 'लोग', 'डर', ',', 'असफलता', 'और', 'समाज', 'के', 'विचारों', 'की', 'वजह', 'से', 'अपने', 'सपनों', 'को', 'पूरा', 'नहीं', 'कर', 'पाते।', 'आत्म-विश्वास', 'और', 'दृढ़', 'निश्चय', 'के', 'साथ', 'कोई', 'भी', 'कार्य', 'असंभव', 'नहीं', 'है।', 'मेहनत', ',', 'लगन', 'और', 'ईमानदारी', 'से', 'किया', 'गया', 'प्रयास', 'कभी', 'व्यर्थ', 'नहीं', 'जाता।', 'सपनों', 'को', 'हकीकत', 'में', 'बदलने', 'के', 'लिए', 'निरंतर', 'प्रयास', 'आवश्यक', 'है।', 'बड़े', 'लक्ष्य', 'हासिल', 'करने', 'के', 'लिए', 'पहले', 'छोटे', 'कदम', 'उठाने', 'पड़ते', 'हैं।', 'हमें', 'अपने', 'जीवन', 'में', 'कभी', 'रुकना', 'नहीं', 'चाहिए', ',', 'चाहे', 'परिस्थिति', 'कैसी', 'भी', 'हो।', 'सीखते', 'रहना', 'और', 'आगे', 'बढ़ते', 'रहना', 'ही', 'सफलता', 'की', 'असली', 'कुंजी', 'है।', 'जीवन', 'को', 'सकारात्मक', 'दृष्टिकोण', 'से', 'देखो', ',', 'और', 'हर', 'दिन', 'को', 'एक', 'नई', 'उम्मीद', 'के', 'साथ', 'जीओ।']\n"
          ]
        }
      ]
    },
    {
      "cell_type": "code",
      "source": [
        "filtered_sentence= [word for word in sentence if word not in hindi_stopwords]"
      ],
      "metadata": {
        "id": "qzSO0T440GLJ"
      },
      "execution_count": null,
      "outputs": []
    },
    {
      "cell_type": "code",
      "source": [
        "print(filtered_sentence)"
      ],
      "metadata": {
        "colab": {
          "base_uri": "https://localhost:8080/"
        },
        "id": "1Rz-J94M0GYC",
        "outputId": "ea5cbce6-55c5-4ccc-d790-2a189a4f3f97"
      },
      "execution_count": null,
      "outputs": [
        {
          "output_type": "stream",
          "name": "stdout",
          "text": [
            "['जीवन', 'संघर्ष', 'कहानी', 'जिसमें', 'हर', 'दिन', 'अध्याय', 'जुड़ते', 'हैं।', 'हर', 'सुबह', 'अवसर', 'लेकर', 'आती', ',', 'हर', 'रात', 'हमें', 'उस', 'दिन', 'सीख', 'देती', 'है।', 'जो', 'व्यक्ति', 'समय', 'उपयोग', ',', 'वही', 'जीवन', 'आगे', 'बढ़ता', 'है।', 'समय', 'धन', 'खर्च', 'जा', ',', 'संचित', 'नहीं।', 'सदुपयोग', 'अत्यंत', 'आवश्यक', 'है।', 'कठिनाइयाँ', 'जीवन', 'हिस्सा', ',', 'परंतु', 'हमें', 'मजबूत', 'बनाती', 'हैं।', 'चुनौतियाँ', 'हमें', 'सिखाती', 'सफलता', 'स्वाद', 'मीठा', 'है।', 'हम', 'गिरते', 'उठते', ',', 'हमें', 'असली', 'ताकत', 'एहसास', 'है।', 'हर', 'इंसान', 'खास', 'क्षमता', ',', 'परंतु', 'अधिकतर', 'लोग', 'डर', ',', 'असफलता', 'समाज', 'विचारों', 'वजह', 'सपनों', 'पाते।', 'आत्म-विश्वास', 'दृढ़', 'निश्चय', 'कोई', 'कार्य', 'असंभव', 'है।', 'मेहनत', ',', 'लगन', 'ईमानदारी', 'प्रयास', 'कभी', 'व्यर्थ', 'जाता।', 'सपनों', 'हकीकत', 'बदलने', 'निरंतर', 'प्रयास', 'आवश्यक', 'है।', 'बड़े', 'लक्ष्य', 'हासिल', 'छोटे', 'कदम', 'उठाने', 'पड़ते', 'हैं।', 'हमें', 'जीवन', 'कभी', 'रुकना', 'चाहिए', ',', 'परिस्थिति', 'कैसी', 'हो।', 'सीखते', 'रहना', 'आगे', 'बढ़ते', 'रहना', 'सफलता', 'असली', 'कुंजी', 'है।', 'जीवन', 'सकारात्मक', 'दृष्टिकोण', 'देखो', ',', 'हर', 'दिन', 'नई', 'उम्मीद', 'जीओ।']\n"
          ]
        }
      ]
    },
    {
      "cell_type": "code",
      "source": [],
      "metadata": {
        "id": "7NBKb4_x0GkJ"
      },
      "execution_count": null,
      "outputs": []
    },
    {
      "cell_type": "code",
      "source": [],
      "metadata": {
        "id": "7rxLT5Q60Gq_"
      },
      "execution_count": null,
      "outputs": []
    },
    {
      "cell_type": "code",
      "source": [],
      "metadata": {
        "id": "C1S6JK100Gub"
      },
      "execution_count": null,
      "outputs": []
    },
    {
      "cell_type": "code",
      "source": [
        "from nltk.stem import WordNetLemmatizer"
      ],
      "metadata": {
        "id": "xfhUAbPWzmtE"
      },
      "execution_count": null,
      "outputs": []
    },
    {
      "cell_type": "code",
      "source": [
        "lemmatizer= WordNetLemmatizer()"
      ],
      "metadata": {
        "id": "lkbDhDrKz7rA"
      },
      "execution_count": null,
      "outputs": []
    },
    {
      "cell_type": "code",
      "source": [
        "import nltk\n",
        "nltk.download('wordnet')"
      ],
      "metadata": {
        "colab": {
          "base_uri": "https://localhost:8080/"
        },
        "id": "nhadpd1g3r7Q",
        "outputId": "82b23dd0-a4dd-43b6-f33f-6c713952e517"
      },
      "execution_count": null,
      "outputs": [
        {
          "output_type": "stream",
          "name": "stderr",
          "text": [
            "[nltk_data] Downloading package wordnet to /root/nltk_data...\n"
          ]
        },
        {
          "output_type": "execute_result",
          "data": {
            "text/plain": [
              "True"
            ]
          },
          "metadata": {},
          "execution_count": 17
        }
      ]
    },
    {
      "cell_type": "code",
      "source": [
        "for i in range(len(sentence)):\n",
        "    words = nltk.word_tokenize(sentence[i])\n",
        "    words = [lemmatizer.lemmatize(word, pos='v') for word in words if word not in set(filtered_sentence)]\n",
        "    sentence[i] = ' '.join(words)\n"
      ],
      "metadata": {
        "id": "UATjFdBwz-a3"
      },
      "execution_count": null,
      "outputs": []
    },
    {
      "cell_type": "code",
      "source": [
        "print(sentence)"
      ],
      "metadata": {
        "colab": {
          "base_uri": "https://localhost:8080/"
        },
        "id": "80CqIlue3oRo",
        "outputId": "99ae9f9e-53c4-49d7-b10e-30d22521ae26"
      },
      "execution_count": null,
      "outputs": [
        {
          "output_type": "stream",
          "name": "stdout",
          "text": [
            "['', 'एक', '', 'की', '', 'है', '', '', '', 'नए', '', '', '', '', '', 'एक', 'नया', '', '', '', 'है', '', 'और', '', '', '', '', '', 'की', '', '', '', '', '', 'अपने', '', 'का', 'सही', '', 'करता', 'है', '', '', '', 'में', '', '', '', '', 'एक', 'ऐसा', '', 'है', 'जिसे', '', 'तो', 'किया', '', 'सकता', 'है', '', 'लेकिन', '', '', 'इसलिए', 'इसका', '', 'करना', '', '', '', '', '', 'का', '', 'हैं', '', '', 'वे', '', '', '', '', '', 'ही', '', '', 'हैं', 'कि', '', 'का', '', 'कितना', '', 'होता', '', 'जब', '', '', 'हैं', 'और', 'फिर', '', 'हैं', '', 'तो', '', 'अपने', 'भीतर', 'की', '', '', 'का', '', 'होता', '', '', '', 'के', 'अंदर', 'कुछ', '', 'करने', 'की', '', 'होती', 'है', '', '', '', '', '', '', '', 'और', '', 'के', '', 'की', '', 'से', 'अपने', '', 'को', 'पूरा', 'नहीं', 'कर', '', '', 'और', '', '', 'के', 'साथ', '', 'भी', '', '', 'नहीं', '', '', '', '', 'और', '', 'से', 'किया', 'गया', '', '', '', 'नहीं', '', '', 'को', '', 'में', '', 'के', 'लिए', '', '', '', '', '', '', '', 'करने', 'के', 'लिए', 'पहले', '', '', '', '', '', '', 'अपने', '', 'में', '', '', 'नहीं', '', '', 'चाहे', '', '', 'भी', '', '', '', 'और', '', '', '', 'ही', '', 'की', '', '', '', '', 'को', '', '', 'से', '', '', 'और', '', '', 'को', 'एक', '', '', 'के', 'साथ', '']\n"
          ]
        }
      ]
    },
    {
      "cell_type": "code",
      "source": [
        "from nltk.tokenize.treebank import TreebankWordDetokenizer\n",
        "\n",
        "detok = TreebankWordDetokenizer()\n",
        "for i in range(len(sentence)):\n",
        "    words = nltk.word_tokenize(sentence[i])\n",
        "    words = [lemmatizer.lemmatize(word, pos='v') for word in words if word not in set(filtered_sentence)]\n",
        "    sentence[i] = detok.detokenize(words)\n"
      ],
      "metadata": {
        "id": "7h4ZOElp34rE"
      },
      "execution_count": null,
      "outputs": []
    },
    {
      "cell_type": "code",
      "source": [
        "print(sentence)"
      ],
      "metadata": {
        "id": "EVRo_qIM4N1r",
        "outputId": "7b37beac-b9fc-4326-c389-4f0a5827aad1",
        "colab": {
          "base_uri": "https://localhost:8080/"
        }
      },
      "execution_count": null,
      "outputs": [
        {
          "output_type": "stream",
          "name": "stdout",
          "text": [
            "['', 'एक', '', 'की', '', 'है', '', '', '', 'नए', '', '', '', '', '', 'एक', 'नया', '', '', '', 'है', '', 'और', '', '', '', '', '', 'की', '', '', '', '', '', 'अपने', '', 'का', 'सही', '', 'करता', 'है', '', '', '', 'में', '', '', '', '', 'एक', 'ऐसा', '', 'है', 'जिसे', '', 'तो', 'किया', '', 'सकता', 'है', '', 'लेकिन', '', '', 'इसलिए', 'इसका', '', 'करना', '', '', '', '', '', 'का', '', 'हैं', '', '', 'वे', '', '', '', '', '', 'ही', '', '', 'हैं', 'कि', '', 'का', '', 'कितना', '', 'होता', '', 'जब', '', '', 'हैं', 'और', 'फिर', '', 'हैं', '', 'तो', '', 'अपने', 'भीतर', 'की', '', '', 'का', '', 'होता', '', '', '', 'के', 'अंदर', 'कुछ', '', 'करने', 'की', '', 'होती', 'है', '', '', '', '', '', '', '', 'और', '', 'के', '', 'की', '', 'से', 'अपने', '', 'को', 'पूरा', 'नहीं', 'कर', '', '', 'और', '', '', 'के', 'साथ', '', 'भी', '', '', 'नहीं', '', '', '', '', 'और', '', 'से', 'किया', 'गया', '', '', '', 'नहीं', '', '', 'को', '', 'में', '', 'के', 'लिए', '', '', '', '', '', '', '', 'करने', 'के', 'लिए', 'पहले', '', '', '', '', '', '', 'अपने', '', 'में', '', '', 'नहीं', '', '', 'चाहे', '', '', 'भी', '', '', '', 'और', '', '', '', 'ही', '', 'की', '', '', '', '', 'को', '', '', 'से', '', '', 'और', '', '', 'को', 'एक', '', '', 'के', 'साथ', '']\n"
          ]
        }
      ]
    },
    {
      "cell_type": "code",
      "source": [
        "!pip install gensim"
      ],
      "metadata": {
        "colab": {
          "base_uri": "https://localhost:8080/"
        },
        "id": "Yzn8CxM0Ee0D",
        "outputId": "90d5b0c7-b2b3-4d9e-d33e-505cd4ceaf61"
      },
      "execution_count": null,
      "outputs": [
        {
          "output_type": "stream",
          "name": "stdout",
          "text": [
            "Collecting gensim\n",
            "  Downloading gensim-4.3.3-cp311-cp311-manylinux_2_17_x86_64.manylinux2014_x86_64.whl.metadata (8.1 kB)\n",
            "Collecting numpy<2.0,>=1.18.5 (from gensim)\n",
            "  Downloading numpy-1.26.4-cp311-cp311-manylinux_2_17_x86_64.manylinux2014_x86_64.whl.metadata (61 kB)\n",
            "\u001b[2K     \u001b[90m━━━━━━━━━━━━━━━━━━━━━━━━━━━━━━━━━━━━━━━━\u001b[0m \u001b[32m61.0/61.0 kB\u001b[0m \u001b[31m2.1 MB/s\u001b[0m eta \u001b[36m0:00:00\u001b[0m\n",
            "\u001b[?25hCollecting scipy<1.14.0,>=1.7.0 (from gensim)\n",
            "  Downloading scipy-1.13.1-cp311-cp311-manylinux_2_17_x86_64.manylinux2014_x86_64.whl.metadata (60 kB)\n",
            "\u001b[2K     \u001b[90m━━━━━━━━━━━━━━━━━━━━━━━━━━━━━━━━━━━━━━━━\u001b[0m \u001b[32m60.6/60.6 kB\u001b[0m \u001b[31m4.9 MB/s\u001b[0m eta \u001b[36m0:00:00\u001b[0m\n",
            "\u001b[?25hRequirement already satisfied: smart-open>=1.8.1 in /usr/local/lib/python3.11/dist-packages (from gensim) (7.1.0)\n",
            "Requirement already satisfied: wrapt in /usr/local/lib/python3.11/dist-packages (from smart-open>=1.8.1->gensim) (1.17.2)\n",
            "Downloading gensim-4.3.3-cp311-cp311-manylinux_2_17_x86_64.manylinux2014_x86_64.whl (26.7 MB)\n",
            "\u001b[2K   \u001b[90m━━━━━━━━━━━━━━━━━━━━━━━━━━━━━━━━━━━━━━━━\u001b[0m \u001b[32m26.7/26.7 MB\u001b[0m \u001b[31m72.8 MB/s\u001b[0m eta \u001b[36m0:00:00\u001b[0m\n",
            "\u001b[?25hDownloading numpy-1.26.4-cp311-cp311-manylinux_2_17_x86_64.manylinux2014_x86_64.whl (18.3 MB)\n",
            "\u001b[2K   \u001b[90m━━━━━━━━━━━━━━━━━━━━━━━━━━━━━━━━━━━━━━━━\u001b[0m \u001b[32m18.3/18.3 MB\u001b[0m \u001b[31m81.9 MB/s\u001b[0m eta \u001b[36m0:00:00\u001b[0m\n",
            "\u001b[?25hDownloading scipy-1.13.1-cp311-cp311-manylinux_2_17_x86_64.manylinux2014_x86_64.whl (38.6 MB)\n",
            "\u001b[2K   \u001b[90m━━━━━━━━━━━━━━━━━━━━━━━━━━━━━━━━━━━━━━━━\u001b[0m \u001b[32m38.6/38.6 MB\u001b[0m \u001b[31m14.0 MB/s\u001b[0m eta \u001b[36m0:00:00\u001b[0m\n",
            "\u001b[?25hInstalling collected packages: numpy, scipy, gensim\n",
            "  Attempting uninstall: numpy\n",
            "    Found existing installation: numpy 2.0.2\n",
            "    Uninstalling numpy-2.0.2:\n",
            "      Successfully uninstalled numpy-2.0.2\n",
            "  Attempting uninstall: scipy\n",
            "    Found existing installation: scipy 1.14.1\n",
            "    Uninstalling scipy-1.14.1:\n",
            "      Successfully uninstalled scipy-1.14.1\n",
            "Successfully installed gensim-4.3.3 numpy-1.26.4 scipy-1.13.1\n"
          ]
        }
      ]
    },
    {
      "cell_type": "code",
      "source": [
        "!pip uninstall -y numpy gensim\n"
      ],
      "metadata": {
        "colab": {
          "base_uri": "https://localhost:8080/"
        },
        "id": "43-O32oLK9Lp",
        "outputId": "61f94de5-08bd-463c-cffc-a9affd994858"
      },
      "execution_count": null,
      "outputs": [
        {
          "output_type": "stream",
          "name": "stdout",
          "text": [
            "Found existing installation: numpy 1.26.4\n",
            "Uninstalling numpy-1.26.4:\n",
            "  Successfully uninstalled numpy-1.26.4\n",
            "Found existing installation: gensim 4.3.3\n",
            "Uninstalling gensim-4.3.3:\n",
            "  Successfully uninstalled gensim-4.3.3\n"
          ]
        }
      ]
    },
    {
      "cell_type": "code",
      "source": [
        "!pip install numpy==1.23.5"
      ],
      "metadata": {
        "colab": {
          "base_uri": "https://localhost:8080/",
          "height": 460
        },
        "id": "YkrxDlQuK9R4",
        "outputId": "b0b84c8c-5053-41cf-bd58-2ff1207365f7"
      },
      "execution_count": null,
      "outputs": [
        {
          "output_type": "stream",
          "name": "stdout",
          "text": [
            "Collecting numpy==1.23.5\n",
            "  Downloading numpy-1.23.5-cp311-cp311-manylinux_2_17_x86_64.manylinux2014_x86_64.whl.metadata (2.3 kB)\n",
            "Downloading numpy-1.23.5-cp311-cp311-manylinux_2_17_x86_64.manylinux2014_x86_64.whl (17.1 MB)\n",
            "\u001b[2K   \u001b[90m━━━━━━━━━━━━━━━━━━━━━━━━━━━━━━━━━━━━━━━━\u001b[0m \u001b[32m17.1/17.1 MB\u001b[0m \u001b[31m85.4 MB/s\u001b[0m eta \u001b[36m0:00:00\u001b[0m\n",
            "\u001b[?25hInstalling collected packages: numpy\n",
            "\u001b[31mERROR: pip's dependency resolver does not currently take into account all the packages that are installed. This behaviour is the source of the following dependency conflicts.\n",
            "chex 0.1.89 requires numpy>=1.24.1, but you have numpy 1.23.5 which is incompatible.\n",
            "pymc 5.21.2 requires numpy>=1.25.0, but you have numpy 1.23.5 which is incompatible.\n",
            "scikit-image 0.25.2 requires numpy>=1.24, but you have numpy 1.23.5 which is incompatible.\n",
            "jaxlib 0.5.1 requires numpy>=1.25, but you have numpy 1.23.5 which is incompatible.\n",
            "xarray 2025.1.2 requires numpy>=1.24, but you have numpy 1.23.5 which is incompatible.\n",
            "bigframes 1.42.0 requires numpy>=1.24.0, but you have numpy 1.23.5 which is incompatible.\n",
            "blosc2 3.2.1 requires numpy>=1.26, but you have numpy 1.23.5 which is incompatible.\n",
            "albumentations 2.0.5 requires numpy>=1.24.4, but you have numpy 1.23.5 which is incompatible.\n",
            "treescope 0.1.9 requires numpy>=1.25.2, but you have numpy 1.23.5 which is incompatible.\n",
            "jax 0.5.2 requires numpy>=1.25, but you have numpy 1.23.5 which is incompatible.\n",
            "albucore 0.0.23 requires numpy>=1.24.4, but you have numpy 1.23.5 which is incompatible.\n",
            "imbalanced-learn 0.13.0 requires numpy<3,>=1.24.3, but you have numpy 1.23.5 which is incompatible.\n",
            "tensorflow 2.18.0 requires numpy<2.1.0,>=1.26.0, but you have numpy 1.23.5 which is incompatible.\u001b[0m\u001b[31m\n",
            "\u001b[0mSuccessfully installed numpy-1.23.5\n"
          ]
        },
        {
          "output_type": "display_data",
          "data": {
            "application/vnd.colab-display-data+json": {
              "pip_warning": {
                "packages": [
                  "numpy"
                ]
              },
              "id": "5d0748cdc52346639892a27c7b771d05"
            }
          },
          "metadata": {}
        }
      ]
    },
    {
      "cell_type": "code",
      "source": [
        "!pip install gensim==4.3.2"
      ],
      "metadata": {
        "colab": {
          "base_uri": "https://localhost:8080/"
        },
        "id": "0dTC7nJILJxs",
        "outputId": "e61e1494-83c5-478d-9b60-8f142f8a9daf"
      },
      "execution_count": null,
      "outputs": [
        {
          "output_type": "stream",
          "name": "stdout",
          "text": [
            "Collecting gensim==4.3.2\n",
            "  Downloading gensim-4.3.2-cp311-cp311-manylinux_2_17_x86_64.manylinux2014_x86_64.whl.metadata (8.3 kB)\n",
            "Requirement already satisfied: numpy>=1.18.5 in /usr/local/lib/python3.11/dist-packages (from gensim==4.3.2) (1.23.5)\n",
            "Requirement already satisfied: scipy>=1.7.0 in /usr/local/lib/python3.11/dist-packages (from gensim==4.3.2) (1.13.1)\n",
            "Requirement already satisfied: smart-open>=1.8.1 in /usr/local/lib/python3.11/dist-packages (from gensim==4.3.2) (7.1.0)\n",
            "Requirement already satisfied: wrapt in /usr/local/lib/python3.11/dist-packages (from smart-open>=1.8.1->gensim==4.3.2) (1.17.2)\n",
            "Downloading gensim-4.3.2-cp311-cp311-manylinux_2_17_x86_64.manylinux2014_x86_64.whl (26.7 MB)\n",
            "\u001b[2K   \u001b[90m━━━━━━━━━━━━━━━━━━━━━━━━━━━━━━━━━━━━━━━━\u001b[0m \u001b[32m26.7/26.7 MB\u001b[0m \u001b[31m72.1 MB/s\u001b[0m eta \u001b[36m0:00:00\u001b[0m\n",
            "\u001b[?25hInstalling collected packages: gensim\n",
            "Successfully installed gensim-4.3.2\n"
          ]
        }
      ]
    },
    {
      "cell_type": "code",
      "source": [
        "import gensim"
      ],
      "metadata": {
        "id": "3tTdHS-wE9AT",
        "colab": {
          "base_uri": "https://localhost:8080/",
          "height": 459
        },
        "outputId": "0fe1e262-dc67-49f3-c02c-13923326c37a"
      },
      "execution_count": null,
      "outputs": [
        {
          "output_type": "error",
          "ename": "ImportError",
          "evalue": "cannot import name 'triu' from 'scipy.linalg' (/usr/local/lib/python3.11/dist-packages/scipy/linalg/__init__.py)",
          "traceback": [
            "\u001b[0;31m---------------------------------------------------------------------------\u001b[0m",
            "\u001b[0;31mImportError\u001b[0m                               Traceback (most recent call last)",
            "\u001b[0;32m<ipython-input-3-e70e92d32c6e>\u001b[0m in \u001b[0;36m<cell line: 0>\u001b[0;34m()\u001b[0m\n\u001b[0;32m----> 1\u001b[0;31m \u001b[0;32mimport\u001b[0m \u001b[0mgensim\u001b[0m\u001b[0;34m\u001b[0m\u001b[0;34m\u001b[0m\u001b[0m\n\u001b[0m",
            "\u001b[0;32m/usr/local/lib/python3.11/dist-packages/gensim/__init__.py\u001b[0m in \u001b[0;36m<module>\u001b[0;34m\u001b[0m\n\u001b[1;32m      9\u001b[0m \u001b[0;32mimport\u001b[0m \u001b[0mlogging\u001b[0m\u001b[0;34m\u001b[0m\u001b[0;34m\u001b[0m\u001b[0m\n\u001b[1;32m     10\u001b[0m \u001b[0;34m\u001b[0m\u001b[0m\n\u001b[0;32m---> 11\u001b[0;31m \u001b[0;32mfrom\u001b[0m \u001b[0mgensim\u001b[0m \u001b[0;32mimport\u001b[0m \u001b[0mparsing\u001b[0m\u001b[0;34m,\u001b[0m \u001b[0mcorpora\u001b[0m\u001b[0;34m,\u001b[0m \u001b[0mmatutils\u001b[0m\u001b[0;34m,\u001b[0m \u001b[0minterfaces\u001b[0m\u001b[0;34m,\u001b[0m \u001b[0mmodels\u001b[0m\u001b[0;34m,\u001b[0m \u001b[0msimilarities\u001b[0m\u001b[0;34m,\u001b[0m \u001b[0mutils\u001b[0m  \u001b[0;31m# noqa:F401\u001b[0m\u001b[0;34m\u001b[0m\u001b[0;34m\u001b[0m\u001b[0m\n\u001b[0m\u001b[1;32m     12\u001b[0m \u001b[0;34m\u001b[0m\u001b[0m\n\u001b[1;32m     13\u001b[0m \u001b[0;34m\u001b[0m\u001b[0m\n",
            "\u001b[0;32m/usr/local/lib/python3.11/dist-packages/gensim/corpora/__init__.py\u001b[0m in \u001b[0;36m<module>\u001b[0;34m\u001b[0m\n\u001b[1;32m      4\u001b[0m \u001b[0;34m\u001b[0m\u001b[0m\n\u001b[1;32m      5\u001b[0m \u001b[0;31m# bring corpus classes directly into package namespace, to save some typing\u001b[0m\u001b[0;34m\u001b[0m\u001b[0;34m\u001b[0m\u001b[0m\n\u001b[0;32m----> 6\u001b[0;31m \u001b[0;32mfrom\u001b[0m \u001b[0;34m.\u001b[0m\u001b[0mindexedcorpus\u001b[0m \u001b[0;32mimport\u001b[0m \u001b[0mIndexedCorpus\u001b[0m  \u001b[0;31m# noqa:F401 must appear before the other classes\u001b[0m\u001b[0;34m\u001b[0m\u001b[0;34m\u001b[0m\u001b[0m\n\u001b[0m\u001b[1;32m      7\u001b[0m \u001b[0;34m\u001b[0m\u001b[0m\n\u001b[1;32m      8\u001b[0m \u001b[0;32mfrom\u001b[0m \u001b[0;34m.\u001b[0m\u001b[0mmmcorpus\u001b[0m \u001b[0;32mimport\u001b[0m \u001b[0mMmCorpus\u001b[0m  \u001b[0;31m# noqa:F401\u001b[0m\u001b[0;34m\u001b[0m\u001b[0;34m\u001b[0m\u001b[0m\n",
            "\u001b[0;32m/usr/local/lib/python3.11/dist-packages/gensim/corpora/indexedcorpus.py\u001b[0m in \u001b[0;36m<module>\u001b[0;34m\u001b[0m\n\u001b[1;32m     12\u001b[0m \u001b[0;32mimport\u001b[0m \u001b[0mnumpy\u001b[0m\u001b[0;34m\u001b[0m\u001b[0;34m\u001b[0m\u001b[0m\n\u001b[1;32m     13\u001b[0m \u001b[0;34m\u001b[0m\u001b[0m\n\u001b[0;32m---> 14\u001b[0;31m \u001b[0;32mfrom\u001b[0m \u001b[0mgensim\u001b[0m \u001b[0;32mimport\u001b[0m \u001b[0minterfaces\u001b[0m\u001b[0;34m,\u001b[0m \u001b[0mutils\u001b[0m\u001b[0;34m\u001b[0m\u001b[0;34m\u001b[0m\u001b[0m\n\u001b[0m\u001b[1;32m     15\u001b[0m \u001b[0;34m\u001b[0m\u001b[0m\n\u001b[1;32m     16\u001b[0m \u001b[0mlogger\u001b[0m \u001b[0;34m=\u001b[0m \u001b[0mlogging\u001b[0m\u001b[0;34m.\u001b[0m\u001b[0mgetLogger\u001b[0m\u001b[0;34m(\u001b[0m\u001b[0m__name__\u001b[0m\u001b[0;34m)\u001b[0m\u001b[0;34m\u001b[0m\u001b[0;34m\u001b[0m\u001b[0m\n",
            "\u001b[0;32m/usr/local/lib/python3.11/dist-packages/gensim/interfaces.py\u001b[0m in \u001b[0;36m<module>\u001b[0;34m\u001b[0m\n\u001b[1;32m     17\u001b[0m \u001b[0;32mimport\u001b[0m \u001b[0mlogging\u001b[0m\u001b[0;34m\u001b[0m\u001b[0;34m\u001b[0m\u001b[0m\n\u001b[1;32m     18\u001b[0m \u001b[0;34m\u001b[0m\u001b[0m\n\u001b[0;32m---> 19\u001b[0;31m \u001b[0;32mfrom\u001b[0m \u001b[0mgensim\u001b[0m \u001b[0;32mimport\u001b[0m \u001b[0mutils\u001b[0m\u001b[0;34m,\u001b[0m \u001b[0mmatutils\u001b[0m\u001b[0;34m\u001b[0m\u001b[0;34m\u001b[0m\u001b[0m\n\u001b[0m\u001b[1;32m     20\u001b[0m \u001b[0;34m\u001b[0m\u001b[0m\n\u001b[1;32m     21\u001b[0m \u001b[0;34m\u001b[0m\u001b[0m\n",
            "\u001b[0;32m/usr/local/lib/python3.11/dist-packages/gensim/matutils.py\u001b[0m in \u001b[0;36m<module>\u001b[0;34m\u001b[0m\n\u001b[1;32m     18\u001b[0m \u001b[0;32mimport\u001b[0m \u001b[0mscipy\u001b[0m\u001b[0;34m.\u001b[0m\u001b[0msparse\u001b[0m\u001b[0;34m\u001b[0m\u001b[0;34m\u001b[0m\u001b[0m\n\u001b[1;32m     19\u001b[0m \u001b[0;32mfrom\u001b[0m \u001b[0mscipy\u001b[0m\u001b[0;34m.\u001b[0m\u001b[0mstats\u001b[0m \u001b[0;32mimport\u001b[0m \u001b[0mentropy\u001b[0m\u001b[0;34m\u001b[0m\u001b[0;34m\u001b[0m\u001b[0m\n\u001b[0;32m---> 20\u001b[0;31m \u001b[0;32mfrom\u001b[0m \u001b[0mscipy\u001b[0m\u001b[0;34m.\u001b[0m\u001b[0mlinalg\u001b[0m \u001b[0;32mimport\u001b[0m \u001b[0mget_blas_funcs\u001b[0m\u001b[0;34m,\u001b[0m \u001b[0mtriu\u001b[0m\u001b[0;34m\u001b[0m\u001b[0;34m\u001b[0m\u001b[0m\n\u001b[0m\u001b[1;32m     21\u001b[0m \u001b[0;32mfrom\u001b[0m \u001b[0mscipy\u001b[0m\u001b[0;34m.\u001b[0m\u001b[0mlinalg\u001b[0m\u001b[0;34m.\u001b[0m\u001b[0mlapack\u001b[0m \u001b[0;32mimport\u001b[0m \u001b[0mget_lapack_funcs\u001b[0m\u001b[0;34m\u001b[0m\u001b[0;34m\u001b[0m\u001b[0m\n\u001b[1;32m     22\u001b[0m \u001b[0;32mfrom\u001b[0m \u001b[0mscipy\u001b[0m\u001b[0;34m.\u001b[0m\u001b[0mspecial\u001b[0m \u001b[0;32mimport\u001b[0m \u001b[0mpsi\u001b[0m  \u001b[0;31m# gamma function utils\u001b[0m\u001b[0;34m\u001b[0m\u001b[0;34m\u001b[0m\u001b[0m\n",
            "\u001b[0;31mImportError\u001b[0m: cannot import name 'triu' from 'scipy.linalg' (/usr/local/lib/python3.11/dist-packages/scipy/linalg/__init__.py)",
            "",
            "\u001b[0;31m---------------------------------------------------------------------------\u001b[0;32m\nNOTE: If your import is failing due to a missing package, you can\nmanually install dependencies using either !pip or !apt.\n\nTo view examples of installing some common dependencies, click the\n\"Open Examples\" button below.\n\u001b[0;31m---------------------------------------------------------------------------\u001b[0m\n"
          ],
          "errorDetails": {
            "actions": [
              {
                "action": "open_url",
                "actionText": "Open Examples",
                "url": "/notebooks/snippets/importing_libraries.ipynb"
              }
            ]
          }
        }
      ]
    },
    {
      "cell_type": "code",
      "source": [],
      "metadata": {
        "id": "T5QcMiP7LDX1"
      },
      "execution_count": null,
      "outputs": []
    },
    {
      "cell_type": "code",
      "source": [],
      "metadata": {
        "id": "GU1ui0-RLDm1"
      },
      "execution_count": null,
      "outputs": []
    },
    {
      "cell_type": "code",
      "source": [],
      "metadata": {
        "id": "8eWGMuXTLDts"
      },
      "execution_count": null,
      "outputs": []
    },
    {
      "cell_type": "code",
      "source": [
        "from gensim.models import Word2Vec, KeyedVectors"
      ],
      "metadata": {
        "id": "ghsKohVtE9MW"
      },
      "execution_count": null,
      "outputs": []
    },
    {
      "cell_type": "code",
      "source": [
        "!wget https://dl.fbaipublicfiles.com/fasttext/vectors-crawl/cc.hi.300.bin.gz"
      ],
      "metadata": {
        "colab": {
          "base_uri": "https://localhost:8080/"
        },
        "id": "uVfpXv3aE9Ot",
        "outputId": "4a8b1671-322f-4cc7-b9ae-29e5c66c5a5b"
      },
      "execution_count": null,
      "outputs": [
        {
          "output_type": "stream",
          "name": "stdout",
          "text": [
            "--2025-04-10 05:09:27--  https://dl.fbaipublicfiles.com/fasttext/vectors-crawl/cc.hi.300.bin.gz\n",
            "Resolving dl.fbaipublicfiles.com (dl.fbaipublicfiles.com)... 18.239.50.18, 18.239.50.104, 18.239.50.9, ...\n",
            "Connecting to dl.fbaipublicfiles.com (dl.fbaipublicfiles.com)|18.239.50.18|:443... connected.\n",
            "HTTP request sent, awaiting response... 200 OK\n",
            "Length: 4371554972 (4.1G) [application/octet-stream]\n",
            "Saving to: ‘cc.hi.300.bin.gz’\n",
            "\n",
            "cc.hi.300.bin.gz    100%[===================>]   4.07G  26.3MB/s    in 2m 56s  \n",
            "\n",
            "2025-04-10 05:12:24 (23.7 MB/s) - ‘cc.hi.300.bin.gz’ saved [4371554972/4371554972]\n",
            "\n"
          ]
        }
      ]
    },
    {
      "cell_type": "code",
      "source": [
        "!gunzip cc.hi.300.vec.gz"
      ],
      "metadata": {
        "colab": {
          "base_uri": "https://localhost:8080/"
        },
        "id": "d858pqhbE9Q_",
        "outputId": "d12459f2-52ba-412d-b8c0-dc79436bc54b"
      },
      "execution_count": 1,
      "outputs": [
        {
          "output_type": "stream",
          "name": "stdout",
          "text": [
            "gzip: cc.hi.300.vec.gz: No such file or directory\n"
          ]
        }
      ]
    },
    {
      "cell_type": "code",
      "source": [
        "from gensim.models.fasttext import load_facebook_model"
      ],
      "metadata": {
        "id": "OtD9Hsp5E9Uh",
        "colab": {
          "base_uri": "https://localhost:8080/",
          "height": 314
        },
        "outputId": "467418fe-fab9-4bda-a6cc-754a7dd34cb5"
      },
      "execution_count": null,
      "outputs": [
        {
          "output_type": "error",
          "ename": "ModuleNotFoundError",
          "evalue": "No module named 'gensim'",
          "traceback": [
            "\u001b[0;31m---------------------------------------------------------------------------\u001b[0m",
            "\u001b[0;31mModuleNotFoundError\u001b[0m                       Traceback (most recent call last)",
            "\u001b[0;32m<ipython-input-1-275b66b8219c>\u001b[0m in \u001b[0;36m<cell line: 0>\u001b[0;34m()\u001b[0m\n\u001b[0;32m----> 1\u001b[0;31m \u001b[0;32mfrom\u001b[0m \u001b[0mgensim\u001b[0m\u001b[0;34m.\u001b[0m\u001b[0mmodels\u001b[0m\u001b[0;34m.\u001b[0m\u001b[0mfasttext\u001b[0m \u001b[0;32mimport\u001b[0m \u001b[0mload_facebook_model\u001b[0m\u001b[0;34m\u001b[0m\u001b[0;34m\u001b[0m\u001b[0m\n\u001b[0m",
            "\u001b[0;31mModuleNotFoundError\u001b[0m: No module named 'gensim'",
            "",
            "\u001b[0;31m---------------------------------------------------------------------------\u001b[0;32m\nNOTE: If your import is failing due to a missing package, you can\nmanually install dependencies using either !pip or !apt.\n\nTo view examples of installing some common dependencies, click the\n\"Open Examples\" button below.\n\u001b[0;31m---------------------------------------------------------------------------\u001b[0m\n"
          ],
          "errorDetails": {
            "actions": [
              {
                "action": "open_url",
                "actionText": "Open Examples",
                "url": "/notebooks/snippets/importing_libraries.ipynb"
              }
            ]
          }
        }
      ]
    },
    {
      "cell_type": "code",
      "source": [
        "model = load_facebook_model('cc.hi.300.bin')"
      ],
      "metadata": {
        "id": "XDW7jfbvHymt"
      },
      "execution_count": null,
      "outputs": []
    },
    {
      "cell_type": "code",
      "source": [
        "vector = model.wv['भारत']"
      ],
      "metadata": {
        "colab": {
          "base_uri": "https://localhost:8080/",
          "height": 141
        },
        "id": "kvuyZUfOH2qJ",
        "outputId": "a783187d-ad16-4caf-ceb3-5b791bc76380"
      },
      "execution_count": null,
      "outputs": [
        {
          "output_type": "error",
          "ename": "NameError",
          "evalue": "name 'model' is not defined",
          "traceback": [
            "\u001b[0;31m---------------------------------------------------------------------------\u001b[0m",
            "\u001b[0;31mNameError\u001b[0m                                 Traceback (most recent call last)",
            "\u001b[0;32m<ipython-input-1-bd843b9df9c3>\u001b[0m in \u001b[0;36m<cell line: 0>\u001b[0;34m()\u001b[0m\n\u001b[0;32m----> 1\u001b[0;31m \u001b[0mvector\u001b[0m \u001b[0;34m=\u001b[0m \u001b[0mmodel\u001b[0m\u001b[0;34m.\u001b[0m\u001b[0mwv\u001b[0m\u001b[0;34m[\u001b[0m\u001b[0;34m'भारत'\u001b[0m\u001b[0;34m]\u001b[0m\u001b[0;34m\u001b[0m\u001b[0;34m\u001b[0m\u001b[0m\n\u001b[0m",
            "\u001b[0;31mNameError\u001b[0m: name 'model' is not defined"
          ]
        }
      ]
    },
    {
      "cell_type": "code",
      "source": [],
      "metadata": {
        "id": "SrUQhJm4NahN"
      },
      "execution_count": null,
      "outputs": []
    },
    {
      "cell_type": "code",
      "source": [],
      "metadata": {
        "id": "Ss4S8lBcNat2"
      },
      "execution_count": null,
      "outputs": []
    },
    {
      "cell_type": "code",
      "source": [],
      "metadata": {
        "id": "MobhS_b8Na4W"
      },
      "execution_count": null,
      "outputs": []
    }
  ]
}